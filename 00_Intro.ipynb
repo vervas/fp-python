{
 "cells": [
  {
   "cell_type": "markdown",
   "metadata": {},
   "source": [
    "# Functional Programming in Python\n",
    "\n",
    "Η αγνότητα σε έναν κόσμο που αλλάζει.\n",
    "\n",
    "**PyThess Meetup - June 13, 2025**\n",
    "\n",
    "*Κωδική ονομασία: Μουντζάρω*"
   ]
  },
  {
   "cell_type": "markdown",
   "metadata": {},
   "source": [
    "## Overview\n",
    "\n",
    "- Functional Programming\n",
    "- Functional Programming in Python\n",
    "- Βιβλιοθήκες: functools, itertools, toolz\n",
    "- Concepts: Generators, Partials, Currying, Composition\n",
    "- Πρακτικές Προελευθερωτικότητας"
   ]
  }
 ],
 "metadata": {
  "kernelspec": {
   "display_name": "Python 3",
   "language": "python",
   "name": "python3"
  },
  "language_info": {
   "codemirror_mode": {
    "name": "ipython",
    "version": 3
   },
   "file_extension": ".py",
   "mimetype": "text/x-python",
   "name": "python",
   "nbconvert_exporter": "python",
   "pygments_lexer": "ipython3",
   "version": "3.8.10"
  }
 },
 "nbformat": 4,
 "nbformat_minor": 4
}
