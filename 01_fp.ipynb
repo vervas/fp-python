{
 "cells": [
  {
   "cell_type": "markdown",
   "id": "41453bef",
   "metadata": {},
   "source": [
    "# Functional Programming?\n",
    "\n",
    "- Pure functions\n",
    "    - Immutability\n",
    "    - No side effects\n",
    "- Higher order functions\n",
    "- Recursion"
   ]
  },
  {
   "cell_type": "markdown",
   "id": "32bb10f7",
   "metadata": {},
   "source": [
    "## Pure function\n",
    "\n",
    "```python\n",
    "def add(a, b):\n",
    "    return a + b\n",
    "```"
   ]
  },
  {
   "cell_type": "markdown",
   "id": "a6733830",
   "metadata": {},
   "source": [
    "### Immutability\n",
    "\n",
    "❌❌❌❌❌❌❌❌\n",
    "```python\n",
    "def increment(data, inc=1):\n",
    "    data[\"number\"] += inc\n",
    "```"
   ]
  },
  {
   "cell_type": "code",
   "execution_count": 18,
   "id": "990e7704",
   "metadata": {},
   "outputs": [
    {
     "data": {
      "text/plain": [
       "{'number': 2}"
      ]
     },
     "execution_count": 18,
     "metadata": {},
     "output_type": "execute_result"
    }
   ],
   "source": [
    "# ❌ BAD\n",
    "def increment(data, inc=1):\n",
    "    data[\"number\"] += inc\n",
    "\n",
    "x = {\"number\": 1}\n",
    "increment(x)\n",
    "x\n"
   ]
  },
  {
   "cell_type": "markdown",
   "id": "6f36c602",
   "metadata": {},
   "source": [
    "✅\n",
    "\n",
    "```python\n",
    "def increment(number, inc=1):\n",
    "    return number + inc\n",
    "```\n"
   ]
  },
  {
   "cell_type": "code",
   "execution_count": 19,
   "id": "0236757c",
   "metadata": {},
   "outputs": [
    {
     "name": "stdout",
     "output_type": "stream",
     "text": [
      "1\n",
      "2\n"
     ]
    }
   ],
   "source": [
    "# ✅ GOOD\n",
    "def increment(number, inc=1):\n",
    "    return number + inc\n",
    "\n",
    "x = 1\n",
    "result = increment(x)\n",
    "print(x)\n",
    "print(result)\n",
    "\n"
   ]
  },
  {
   "cell_type": "code",
   "execution_count": 20,
   "id": "9a74f884",
   "metadata": {},
   "outputs": [
    {
     "name": "stdout",
     "output_type": "stream",
     "text": [
      "[1, 2, 3, 4]\n",
      "[1, 2, 3, 4, 5]\n"
     ]
    }
   ],
   "source": [
    "# ❌ BAD\n",
    "def append_to_list_bad(list, item):\n",
    "    list.append(item)\n",
    "\n",
    "# ✅ GOOD\n",
    "def append_to_list(list, item):\n",
    "    return list + [item]\n",
    "\n",
    "list = [1, 2, 3]\n",
    "append_to_list_bad(list, 4)\n",
    "print(list)\n",
    "result = append_to_list(list, 5)\n",
    "print(result)\n"
   ]
  },
  {
   "cell_type": "markdown",
   "id": "8fcd50de",
   "metadata": {},
   "source": [
    "### No side effects\n",
    "\n",
    "```python\n",
    "def append_to_list(list, item):\n",
    "    print(\"Appended\", item) # Side effect! ❌\n",
    "    return list + [item]\n",
    "```\n"
   ]
  },
  {
   "cell_type": "markdown",
   "id": "15824016",
   "metadata": {},
   "source": [
    "## Higher order functions\n",
    "\n",
    "```python\n",
    "def increment(a, inc=1):\n",
    "    return a + inc\n",
    "    \n",
    "def perform_operation(number, operator):\n",
    "    return operator(number)\n",
    "\n",
    "result = perform_operation(1, increment)\n",
    "```"
   ]
  },
  {
   "cell_type": "code",
   "execution_count": 30,
   "id": "a68e67b6",
   "metadata": {},
   "outputs": [
    {
     "name": "stdout",
     "output_type": "stream",
     "text": [
      "3\n",
      "2\n"
     ]
    }
   ],
   "source": [
    "def add(numbers):\n",
    "    return sum(numbers)\n",
    "    \n",
    "def multiply(numbers):\n",
    "    if len(numbers) == 1:\n",
    "        return numbers[0]\n",
    "    return numbers[0] * multiply(numbers[1:])\n",
    "\n",
    "OPERATIONS = {\n",
    "    \"+\": add,\n",
    "    \"*\": multiply\n",
    "}\n",
    "\n",
    "def perform_operation(numbers, operator):\n",
    "    return OPERATIONS[operator](numbers)\n",
    "\n",
    "\n",
    "result = perform_operation([1, 2], \"+\")\n",
    "print(result)\n",
    "result = perform_operation([1, 2], \"*\")\n",
    "print(result)\n"
   ]
  }
 ],
 "metadata": {
  "kernelspec": {
   "display_name": ".venv",
   "language": "python",
   "name": "python3"
  },
  "language_info": {
   "codemirror_mode": {
    "name": "ipython",
    "version": 3
   },
   "file_extension": ".py",
   "mimetype": "text/x-python",
   "name": "python",
   "nbconvert_exporter": "python",
   "pygments_lexer": "ipython3",
   "version": "3.13.3"
  }
 },
 "nbformat": 4,
 "nbformat_minor": 5
}
