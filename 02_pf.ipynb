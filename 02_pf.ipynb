{
 "cells": [
  {
   "cell_type": "markdown",
   "id": "7082e670",
   "metadata": {},
   "source": [
    "# Funtional Python\n",
    "\n",
    "- Built-in functions:\n",
    "    - map\n",
    "    - filter\n",
    "    - reduce\n",
    "- Generators"
   ]
  },
  {
   "cell_type": "code",
   "execution_count": null,
   "id": "69453a2c",
   "metadata": {},
   "outputs": [],
   "source": [
    "f = range\n",
    "print(f)\n",
    "one_to_nine = f(1, 10)\n",
    "print(type(one_to_nine))\n",
    "gen = (x for x in one_to_nine)\n",
    "print(gen)\n",
    "l = [x for x in one_to_nine]\n",
    "print(l)\n",
    "print(list(gen))\n",
    "\n"
   ]
  },
  {
   "cell_type": "markdown",
   "id": "33778dff",
   "metadata": {},
   "source": [
    "## Map"
   ]
  },
  {
   "cell_type": "code",
   "execution_count": 21,
   "id": "1fd3258f",
   "metadata": {},
   "outputs": [
    {
     "name": "stdout",
     "output_type": "stream",
     "text": [
      "['1', '2', '3', '4', '5']\n",
      "\n",
      "VS\n",
      "\n",
      "<map object at 0x1059c2920>\n",
      "['1', '2', '3', '4', '5']\n"
     ]
    }
   ],
   "source": [
    "numbers = [1, 2, 3, 4, 5]\n",
    "\n",
    "# List Comprehension\n",
    "str_numbers_list = [str(x) for x in numbers]\n",
    "print(str_numbers_list)\n",
    "\n",
    "# VS\n",
    "print(\"\\nVS\\n\")\n",
    "\n",
    "# Map\n",
    "str_numbers = map(str, numbers)\n",
    "print(str_numbers)\n",
    "print(list(str_numbers))"
   ]
  },
  {
   "cell_type": "markdown",
   "id": "daa11cf5",
   "metadata": {},
   "source": [
    "## Filter"
   ]
  },
  {
   "cell_type": "code",
   "execution_count": 27,
   "id": "94a7cef5",
   "metadata": {},
   "outputs": [
    {
     "name": "stdout",
     "output_type": "stream",
     "text": [
      "[1, 3, 5, 7, 9]\n",
      "\n",
      "VS\n",
      "\n",
      "<filter object at 0x1059c3d30>\n",
      "[1, 3, 5, 7, 9]\n",
      "[0, 2, 4, 6, 8]\n"
     ]
    }
   ],
   "source": [
    "zero_to_nine = range(10)\n",
    "\n",
    "# List Comprehension\n",
    "odds = [x for x in zero_to_nine if x % 2 == 1]\n",
    "\n",
    "print(odds)\n",
    "\n",
    "# VS\n",
    "print(\"\\nVS\\n\")\n",
    "\n",
    "# Filter\n",
    "odds = filter(lambda x: x % 2 == 1, zero_to_nine)\n",
    "\n",
    "print(odds)\n",
    "print(list(odds))\n",
    "\n",
    "def is_even(x):\n",
    "    return x % 2 == 0\n",
    "\n",
    "evens = filter(is_even, zero_to_nine)\n",
    "print(list(evens))\n"
   ]
  },
  {
   "cell_type": "code",
   "execution_count": 32,
   "id": "c71f6f1d",
   "metadata": {},
   "outputs": [
    {
     "name": "stdout",
     "output_type": "stream",
     "text": [
      "['0', '2', '4', '6', '8']\n",
      "['0', '2', '4', '6', '8']\n"
     ]
    }
   ],
   "source": [
    "print(list(map(str,filter(is_even, range(10)))))\n",
    "\n",
    "print(\n",
    "    list(\n",
    "        map(\n",
    "            str,\n",
    "            filter(is_even, range(10))\n",
    "        )\n",
    "    )\n",
    ")"
   ]
  }
 ],
 "metadata": {
  "kernelspec": {
   "display_name": ".venv",
   "language": "python",
   "name": "python3"
  },
  "language_info": {
   "codemirror_mode": {
    "name": "ipython",
    "version": 3
   },
   "file_extension": ".py",
   "mimetype": "text/x-python",
   "name": "python",
   "nbconvert_exporter": "python",
   "pygments_lexer": "ipython3",
   "version": "3.13.3"
  }
 },
 "nbformat": 4,
 "nbformat_minor": 5
}
