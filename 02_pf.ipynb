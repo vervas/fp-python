{
 "cells": [
  {
   "cell_type": "markdown",
   "id": "7082e670",
   "metadata": {},
   "source": [
    "# Funtional Python\n",
    "\n",
    "- Built-in functions:\n",
    "    - map\n",
    "    - filter\n",
    "    - reduce\n",
    "- Generators"
   ]
  },
  {
   "cell_type": "code",
   "execution_count": 1,
   "id": "69453a2c",
   "metadata": {},
   "outputs": [
    {
     "name": "stdout",
     "output_type": "stream",
     "text": [
      "<class 'range'>\n",
      "<class 'range'>\n",
      "<generator object <genexpr> at 0x1057eb940>\n",
      "[1, 2, 3, 4, 5, 6, 7, 8, 9]\n",
      "[1, 2, 3, 4, 5, 6, 7, 8, 9]\n"
     ]
    }
   ],
   "source": [
    "f = range\n",
    "print(f)\n",
    "one_to_nine = f(1, 10)\n",
    "print(type(one_to_nine))\n",
    "gen = (x for x in one_to_nine)\n",
    "print(gen)\n",
    "l = [x for x in one_to_nine]\n",
    "print(l)\n",
    "print(list(gen))\n",
    "\n"
   ]
  },
  {
   "cell_type": "markdown",
   "id": "33778dff",
   "metadata": {},
   "source": [
    "## Map"
   ]
  },
  {
   "cell_type": "code",
   "execution_count": 2,
   "id": "1fd3258f",
   "metadata": {},
   "outputs": [
    {
     "name": "stdout",
     "output_type": "stream",
     "text": [
      "['1', '2', '3', '4', '5']\n",
      "\n",
      "VS\n",
      "\n",
      "<map object at 0x105d41660>\n",
      "['1', '2', '3', '4', '5']\n"
     ]
    }
   ],
   "source": [
    "numbers = [1, 2, 3, 4, 5]\n",
    "\n",
    "# List Comprehension\n",
    "str_numbers_list = [str(x) for x in numbers]\n",
    "print(str_numbers_list)\n",
    "\n",
    "# VS\n",
    "print(\"\\nVS\\n\")\n",
    "\n",
    "# Map\n",
    "str_numbers = map(str, numbers)\n",
    "print(str_numbers)\n",
    "print(list(str_numbers))"
   ]
  },
  {
   "cell_type": "markdown",
   "id": "daa11cf5",
   "metadata": {},
   "source": [
    "## Filter"
   ]
  },
  {
   "cell_type": "code",
   "execution_count": 3,
   "id": "94a7cef5",
   "metadata": {},
   "outputs": [
    {
     "name": "stdout",
     "output_type": "stream",
     "text": [
      "[1, 3, 5, 7, 9]\n",
      "\n",
      "VS\n",
      "\n",
      "<filter object at 0x105d03250>\n",
      "[1, 3, 5, 7, 9]\n",
      "[0, 2, 4, 6, 8]\n"
     ]
    }
   ],
   "source": [
    "zero_to_nine = range(10)\n",
    "\n",
    "# List Comprehension\n",
    "odds = [x for x in zero_to_nine if x % 2 == 1]\n",
    "\n",
    "print(odds)\n",
    "\n",
    "# VS\n",
    "print(\"\\nVS\\n\")\n",
    "\n",
    "# Filter\n",
    "odds = filter(lambda x: x % 2 == 1, zero_to_nine)\n",
    "\n",
    "print(odds)\n",
    "print(list(odds))\n",
    "\n",
    "def is_even(x):\n",
    "    return x % 2 == 0\n",
    "\n",
    "evens = filter(is_even, zero_to_nine)\n",
    "print(list(evens))\n"
   ]
  },
  {
   "cell_type": "code",
   "execution_count": 4,
   "id": "c71f6f1d",
   "metadata": {},
   "outputs": [
    {
     "name": "stdout",
     "output_type": "stream",
     "text": [
      "['0', '2', '4', '6', '8']\n",
      "['0', '2', '4', '6', '8']\n"
     ]
    }
   ],
   "source": [
    "print(list(map(str,filter(is_even, range(10)))))\n",
    "\n",
    "print(\n",
    "    list(\n",
    "        map(\n",
    "            str,\n",
    "            filter(is_even, range(10))\n",
    "        )\n",
    "    )\n",
    ")"
   ]
  },
  {
   "cell_type": "markdown",
   "id": "681702cf",
   "metadata": {},
   "source": [
    "## Functools"
   ]
  },
  {
   "cell_type": "code",
   "execution_count": 20,
   "id": "08b3d0c8",
   "metadata": {},
   "outputs": [
    {
     "name": "stdout",
     "output_type": "stream",
     "text": [
      "24\n",
      "240\n"
     ]
    }
   ],
   "source": [
    "from functools import reduce\n",
    "\n",
    "\n",
    "def multiply(numbers):\n",
    "    return reduce(lambda x, y: x * y, numbers)\n",
    "\n",
    "print(multiply([1, 2, 3, 4]))\n",
    "\n",
    "print(reduce(lambda x, y: x * y, [1, 2, 3, 4], 10))"
   ]
  },
  {
   "cell_type": "markdown",
   "id": "c0303780",
   "metadata": {},
   "source": [
    "### Partials"
   ]
  },
  {
   "cell_type": "code",
   "execution_count": 18,
   "id": "0445968c",
   "metadata": {},
   "outputs": [
    {
     "name": "stdout",
     "output_type": "stream",
     "text": [
      "0.5\n",
      "(1,)\n",
      "{}\n",
      "\n",
      "partial with keyword arguments\n",
      "0.02\n",
      "()\n",
      "{'d': 100}\n"
     ]
    }
   ],
   "source": [
    "from fractions import Fraction\n",
    "from functools import partial\n",
    "\n",
    "def div(n, d):\n",
    "    return n / d\n",
    "\n",
    "reciprocal = partial(div, 1)\n",
    "print(reciprocal(2))\n",
    "\n",
    "print(reciprocal.args)\n",
    "print(reciprocal.keywords)\n",
    "\n",
    "print(\"\\npartial with keyword arguments\")\n",
    "to_percent = partial(div, d=100)\n",
    "print(to_percent(2))\n",
    "print(to_percent.args)\n",
    "print(to_percent.keywords)"
   ]
  }
 ],
 "metadata": {
  "kernelspec": {
   "display_name": ".venv",
   "language": "python",
   "name": "python3"
  },
  "language_info": {
   "codemirror_mode": {
    "name": "ipython",
    "version": 3
   },
   "file_extension": ".py",
   "mimetype": "text/x-python",
   "name": "python",
   "nbconvert_exporter": "python",
   "pygments_lexer": "ipython3",
   "version": "3.13.3"
  }
 },
 "nbformat": 4,
 "nbformat_minor": 5
}
