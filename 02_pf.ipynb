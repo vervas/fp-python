{
 "cells": [
  {
   "cell_type": "markdown",
   "id": "7082e670",
   "metadata": {},
   "source": [
    "# Funtional Python\n",
    "\n",
    "- Built-in functions:\n",
    "    - map\n",
    "    - filter\n",
    "    - reduce\n",
    "- Generators"
   ]
  },
  {
   "cell_type": "code",
   "execution_count": null,
   "id": "69453a2c",
   "metadata": {},
   "outputs": [],
   "source": [
    "f = range\n",
    "print(f)\n",
    "one_to_nine = f(1, 10)\n",
    "print(type(one_to_nine))\n",
    "gen = (x for x in one_to_nine)\n",
    "print(gen)\n",
    "l = [x for x in one_to_nine]\n",
    "print(l)\n",
    "print(list(gen))\n",
    "\n"
   ]
  },
  {
   "cell_type": "markdown",
   "id": "33778dff",
   "metadata": {},
   "source": [
    "## Map"
   ]
  },
  {
   "cell_type": "code",
   "execution_count": null,
   "id": "1fd3258f",
   "metadata": {},
   "outputs": [],
   "source": [
    "numbers = [1, 2, 3, 4, 5]\n",
    "\n",
    "# List Comprehension\n",
    "str_numbers_list = [str(x) for x in numbers]\n",
    "print(str_numbers_list)\n",
    "\n",
    "# VS\n",
    "print(\"\\nVS\\n\")\n",
    "\n",
    "# Map\n",
    "str_numbers = map(str, numbers)\n",
    "print(str_numbers)\n",
    "print(list(str_numbers))"
   ]
  },
  {
   "cell_type": "markdown",
   "id": "daa11cf5",
   "metadata": {},
   "source": [
    "## Filter"
   ]
  },
  {
   "cell_type": "code",
   "execution_count": null,
   "id": "94a7cef5",
   "metadata": {},
   "outputs": [],
   "source": [
    "zero_to_nine = range(10)\n",
    "\n",
    "# List Comprehension\n",
    "odds = [x for x in zero_to_nine if x % 2 == 1]\n",
    "\n",
    "print(odds)\n",
    "\n",
    "# VS\n",
    "print(\"\\nVS\\n\")\n",
    "\n",
    "# Filter\n",
    "odds = filter(lambda x: x % 2 == 1, zero_to_nine)\n",
    "\n",
    "print(odds)\n",
    "print(list(odds))\n",
    "\n",
    "def is_even(x):\n",
    "    return x % 2 == 0\n",
    "\n",
    "evens = filter(is_even, zero_to_nine)\n",
    "print(list(evens))\n"
   ]
  },
  {
   "cell_type": "code",
   "execution_count": null,
   "id": "c71f6f1d",
   "metadata": {},
   "outputs": [],
   "source": [
    "print(list(map(str,filter(is_even, range(10)))))\n",
    "\n",
    "print(\n",
    "    list(\n",
    "        map(\n",
    "            str,\n",
    "            filter(is_even, range(10))\n",
    "        )\n",
    "    )\n",
    ")"
   ]
  },
  {
   "cell_type": "markdown",
   "id": "681702cf",
   "metadata": {},
   "source": [
    "## Functools"
   ]
  },
  {
   "cell_type": "code",
   "execution_count": null,
   "id": "08b3d0c8",
   "metadata": {},
   "outputs": [],
   "source": [
    "from functools import reduce\n",
    "\n",
    "\n",
    "def multiply(numbers):\n",
    "    return reduce(lambda x, y: x * y, numbers)\n",
    "\n",
    "print(multiply([1, 2, 3, 4]))\n",
    "\n",
    "print(reduce(lambda x, y: x * y, [1, 2, 3, 4], 10))"
   ]
  },
  {
   "cell_type": "markdown",
   "id": "c0303780",
   "metadata": {},
   "source": [
    "### Partials"
   ]
  },
  {
   "cell_type": "code",
   "execution_count": null,
   "id": "3d37ef6a",
   "metadata": {},
   "outputs": [],
   "source": [
    "from functools import partial\n",
    "\n",
    "def power(base, exponent):\n",
    "    return base ** exponent\n",
    "\n",
    "powers_of_two = partial(power, 2)\n",
    "print(powers_of_two(3))\n",
    "print(powers_of_two.args)\n",
    "print(powers_of_two.keywords)\n",
    "\n",
    "\n",
    "print(\"\\nWith keyword arguments\\n\")\n",
    "# Create specialized functions\n",
    "square = partial(power, exponent=2)\n",
    "cube = partial(power, exponent=3)\n",
    "\n",
    "print(f\"square(4) = {square(4)}\")  # 16\n",
    "print(square.args)\n",
    "print(square.keywords)\n",
    "\n",
    "print(f\"\\ncube(4) = {cube(4)}\")     # 64"
   ]
  }
 ],
 "metadata": {
  "kernelspec": {
   "display_name": ".venv",
   "language": "python",
   "name": "python3"
  },
  "language_info": {
   "codemirror_mode": {
    "name": "ipython",
    "version": 3
   },
   "file_extension": ".py",
   "mimetype": "text/x-python",
   "name": "python",
   "nbconvert_exporter": "python",
   "pygments_lexer": "ipython3",
   "version": "3.13.3"
  }
 },
 "nbformat": 4,
 "nbformat_minor": 5
}
