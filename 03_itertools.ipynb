{
 "cells": [
  {
   "cell_type": "markdown",
   "id": "4b710859",
   "metadata": {},
   "source": [
    "# Iterators\n",
    "\n",
    "##\n"
   ]
  },
  {
   "cell_type": "markdown",
   "id": "99e65b26",
   "metadata": {},
   "source": [
    "## Generators\n",
    "\n",
    "Functions that return an iterator that yields values one at a time\n"
   ]
  },
  {
   "cell_type": "code",
   "execution_count": 6,
   "id": "9a2defd1",
   "metadata": {},
   "outputs": [
    {
     "name": "stdout",
     "output_type": "stream",
     "text": [
      "Using generator:\n",
      "1\n",
      "2\n",
      "3\n",
      "4\n",
      "5\n",
      "1\n",
      "2\n",
      "3\n",
      "4\n",
      "5\n"
     ]
    },
    {
     "ename": "StopIteration",
     "evalue": "",
     "output_type": "error",
     "traceback": [
      "\u001b[31m---------------------------------------------------------------------------\u001b[39m",
      "\u001b[31mStopIteration\u001b[39m                             Traceback (most recent call last)",
      "\u001b[36mCell\u001b[39m\u001b[36m \u001b[39m\u001b[32mIn[6]\u001b[39m\u001b[32m, line 19\u001b[39m\n\u001b[32m     17\u001b[39m \u001b[38;5;28mprint\u001b[39m(\u001b[38;5;28mnext\u001b[39m(c5))\n\u001b[32m     18\u001b[39m \u001b[38;5;28mprint\u001b[39m(\u001b[38;5;28mnext\u001b[39m(c5))\n\u001b[32m---> \u001b[39m\u001b[32m19\u001b[39m \u001b[38;5;28mprint\u001b[39m(\u001b[38;5;28;43mnext\u001b[39;49m\u001b[43m(\u001b[49m\u001b[43mc5\u001b[49m\u001b[43m)\u001b[49m)\n",
      "\u001b[31mStopIteration\u001b[39m: "
     ]
    }
   ],
   "source": [
    "def count_up_to(max):\n",
    "    count = 1\n",
    "    while count <= max:\n",
    "        yield count\n",
    "        count += 1\n",
    "\n",
    "\n",
    "# Using the generator\n",
    "print(\"Using generator:\")\n",
    "for number in count_up_to(5):\n",
    "    print(number)  # Prints 1, 2, 3, 4, 5\n",
    "\n",
    "\n",
    "c5 = count_up_to(5)\n",
    "print(next(c5))\n",
    "print(next(c5))\n",
    "print(next(c5))\n",
    "print(next(c5))\n",
    "print(next(c5))\n",
    "print(next(c5))"
   ]
  },
  {
   "cell_type": "code",
   "execution_count": 7,
   "id": "358ba589",
   "metadata": {},
   "outputs": [
    {
     "name": "stdout",
     "output_type": "stream",
     "text": [
      "[1, 1, 2, 4, 3, 9, 4, 16, 5, 25]\n"
     ]
    }
   ],
   "source": [
    "def count_with_square(max):\n",
    "    count = 1\n",
    "    while count <= max:\n",
    "        yield count\n",
    "        yield count**2\n",
    "        count += 1\n",
    "\n",
    "\n",
    "print(list(count_with_square(5)))"
   ]
  },
  {
   "cell_type": "code",
   "execution_count": 8,
   "id": "30c58438",
   "metadata": {},
   "outputs": [
    {
     "name": "stdout",
     "output_type": "stream",
     "text": [
      "[(1, 1), (2, 4), (3, 9), (4, 16), (5, 25)]\n"
     ]
    }
   ],
   "source": [
    "from itertools import batched\n",
    "\n",
    "print(list(batched(count_with_square(5), 2)))"
   ]
  },
  {
   "cell_type": "code",
   "execution_count": null,
   "id": "c44ffb7e",
   "metadata": {},
   "outputs": [
    {
     "name": "stdout",
     "output_type": "stream",
     "text": [
      "[(1, 0), (2, 0), (3, 0), (4, 0), (5, 0)]\n"
     ]
    }
   ],
   "source": [
    "from itertools import starmap\n",
    "\n",
    "print(list(starmap(divmod, map(reversed, batched(count_with_square(5), 2)))))"
   ]
  }
 ],
 "metadata": {
  "kernelspec": {
   "display_name": ".venv",
   "language": "python",
   "name": "python3"
  },
  "language_info": {
   "codemirror_mode": {
    "name": "ipython",
    "version": 3
   },
   "file_extension": ".py",
   "mimetype": "text/x-python",
   "name": "python",
   "nbconvert_exporter": "python",
   "pygments_lexer": "ipython3",
   "version": "3.13.3"
  }
 },
 "nbformat": 4,
 "nbformat_minor": 5
}
