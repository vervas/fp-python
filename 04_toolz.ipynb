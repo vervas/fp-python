{
 "cells": [
  {
   "cell_type": "markdown",
   "id": "0724e8b5",
   "metadata": {},
   "source": [
    "# Toolz\n",
    "\n",
    "Toolz provides a set of utility functions for iterators, functions, and dictionaries. These functions interoperate well and form the building blocks of common data analytic operations. They extend the standard libraries itertools and functools and borrow heavily from the standard libraries of contemporary functional languages.\n",
    "\n",
    "Toolz provides a suite of functions which have the following functional virtues:\n",
    "\n",
    "- Composable: They interoperate due to their use of core data structures.\n",
    "- Pure: They don’t change their inputs or rely on external state.\n",
    "- Lazy: They don’t run until absolutely necessary, allowing them to support large streaming data sets.\n",
    "\n",
    "Toolz functions are pragmatic. They understand that most programmers have deadlines.\n",
    "\n",
    "- Low Tech: They’re just functions, no syntax or magic tricks to learn\n",
    "- Tuned: They’re profiled and optimized\n",
    "- Serializable: They support common solutions for parallel computing\n",
    "\n"
   ]
  },
  {
   "cell_type": "markdown",
   "id": "407a031f",
   "metadata": {},
   "source": [
    "## Best of"
   ]
  },
  {
   "cell_type": "markdown",
   "id": "6912b292",
   "metadata": {},
   "source": [
    "### Currying"
   ]
  },
  {
   "cell_type": "code",
   "execution_count": null,
   "id": "8b55ceff",
   "metadata": {},
   "outputs": [],
   "source": [
    "from toolz import curry\n",
    "\n",
    "def to_hex(num):\n",
    "    return format(num, '02x')\n",
    "\n",
    "def rgb(r, g, b):\n",
    "    return f\"#{to_hex(r)}{to_hex(g)}{to_hex(b)}\"\n",
    "\n",
    "print(rgb(255, 0, 0))\n",
    "print(rgb(0, 255, 0))\n",
    "print(rgb(0, 0, 255))\n",
    "\n",
    "print(\"\\n### Currying\")\n",
    "rgb = curry(rgb)\n",
    "print(rgb(255))\n",
    "print(rgb(255)(0))\n",
    "print(rgb(255)(0)(0))\n",
    "\n",
    "print(\"\\n### blue\")\n",
    "blue = rgb(0)(0)\n",
    "print(blue(255))\n",
    "print(blue(128))\n",
    "\n",
    "print(\"\\n### red\")\n",
    "red = rgb(g=0, b=0)\n",
    "print(red(255))\n",
    "print(red(128))\n",
    "print(red(64))\n",
    "\n",
    "print(\"\\n### greens\")\n",
    "green_to_blue = rgb(0)\n",
    "print(green_to_blue(255, 128))\n",
    "print(green_to_blue(128, 64))\n",
    "print(green_to_blue(64, 255))\n",
    "\n"
   ]
  },
  {
   "cell_type": "code",
   "execution_count": null,
   "id": "c0f52b79",
   "metadata": {},
   "outputs": [],
   "source": [
    "from IPython.display import HTML, display\n",
    "\n",
    "# Display a colored square\n",
    "def display_color(hex_color):\n",
    "    display(HTML(f'<div style=\"background-color: {hex_color}; width: 50px; height: 50px; border: 1px solid black;\"></div>'))\n",
    "\n",
    "# Example usage\n",
    "display_color(green_to_blue(255, 0))\n",
    "display_color(green_to_blue(128, 128))\n",
    "display_color(green_to_blue(64, 255))\n",
    "display_color(red(0))\n",
    "display_color(red(128))\n",
    "display_color(red(255))"
   ]
  },
  {
   "cell_type": "markdown",
   "id": "b7f56039",
   "metadata": {},
   "source": [
    "## Function Composition\n",
    "\n",
    "Building complex functions by combining simpler ones"
   ]
  },
  {
   "cell_type": "code",
   "execution_count": null,
   "id": "d7f8d81f",
   "metadata": {},
   "outputs": [],
   "source": [
    "# Using toolz for composition\n",
    "from toolz import compose\n",
    "from operator import mul\n",
    "from functools import partial\n",
    "\n",
    "cube = lambda x: x ** 3\n",
    "negate = lambda x: -x\n",
    "process = compose(str, negate, cube)\n",
    "print(process(3))"
   ]
  },
  {
   "cell_type": "code",
   "execution_count": null,
   "id": "f5b869fe",
   "metadata": {},
   "outputs": [],
   "source": [
    "# Create a text processing pipeline\n",
    "process_text = compose(str.capitalize, \" \".join, reversed, str.split, str.lower)\n",
    "\n",
    "text = \"The quick brown fox jumps over the lazy dog!\"\n",
    "print(process_text(text))"
   ]
  },
  {
   "cell_type": "code",
   "execution_count": null,
   "id": "21394e2f",
   "metadata": {},
   "outputs": [],
   "source": [
    "from toolz import compose_left\n",
    "\n",
    "process_text = compose_left(str.lower, str.split, reversed, \" \".join, str.capitalize)\n",
    "\n",
    "text = \"The quick brown fox jumps over the lazy dog!\"\n",
    "print(process_text(text))\n"
   ]
  },
  {
   "cell_type": "code",
   "execution_count": null,
   "id": "d30b5068",
   "metadata": {},
   "outputs": [],
   "source": [
    "from toolz import pipe\n",
    "\n",
    "result = pipe(\n",
    "    range(10),\n",
    "    filter(lambda x: x % 2 == 0),\n",
    "    map(lambda x: x / 2),\n",
    "    sum\n",
    ")"
   ]
  },
  {
   "cell_type": "code",
   "execution_count": null,
   "id": "bd59afc8",
   "metadata": {},
   "outputs": [],
   "source": [
    "from toolz.curried import pipe, map, filter\n",
    "\n",
    "\n",
    "result = pipe(\n",
    "    range(10),\n",
    "    filter(lambda x: x % 2 == 0), # [0, 2, 4, 6, 8]\n",
    "    map(lambda x: x / 2),         # [0.0, 1.0, 2.0, 3.0, 4.0]\n",
    "    sum,                          # 10.0\n",
    "    str,                          # '10.0'\n",
    "    reversed,                     # ['0', '.', '0', '1']\n",
    "    \"\".join,                      # '0.01'\n",
    ")\n",
    "print(result)"
   ]
  },
  {
   "cell_type": "markdown",
   "id": "e9f85512",
   "metadata": {},
   "source": [
    "## Dicttoolz"
   ]
  },
  {
   "cell_type": "code",
   "execution_count": null,
   "id": "6b198164",
   "metadata": {},
   "outputs": [],
   "source": [
    "from toolz import valfilter\n",
    "\n",
    "users = {\n",
    "    'user1': {'name': 'Alice', 'age': 25, 'active': True},\n",
    "    'user2': {'name': 'Bob', 'age': 17, 'active': False},\n",
    "    'user3': {'name': 'Charlie', 'age': 32, 'active': True},\n",
    "    'user4': {'name': 'Diana', 'age': 15, 'active': False}\n",
    "}\n",
    "\n",
    "active_users = valfilter(lambda user: user['active'], users)\n",
    "print(\"Active users:\")\n",
    "for user in active_users.values():\n",
    "    print(f\"\\t{user['name']}, {user['age']}\")\n"
   ]
  },
  {
   "cell_type": "code",
   "execution_count": null,
   "id": "ee47d55a",
   "metadata": {},
   "outputs": [],
   "source": [
    "# More complex example\n",
    "def remove_punctuation(text):\n",
    "    import string\n",
    "    return ''.join(c for c in text if c not in string.punctuation)\n",
    "\n",
    "def lowercase(text):\n",
    "    return text.lower()\n",
    "\n",
    "def tokenize(text):\n",
    "    return text.split()\n",
    "\n",
    "def remove_stopwords(words):\n",
    "    stopwords = {'the', 'a', 'an', 'in', 'on', 'at', 'for', 'to', 'of', 'with', 'by'}\n",
    "    return [word for word in words if word not in stopwords]\n",
    "\n",
    "# Create a text processing pipeline\n",
    "process_text = compose(remove_stopwords, tokenize, lowercase, remove_punctuation)\n",
    "\n",
    "text = \"The quick brown fox jumps over the lazy dog!\"\n",
    "print(f\"Original text: {text}\")\n",
    "print(f\"Processed text: {process_text(text)}\")"
   ]
  },
  {
   "cell_type": "code",
   "execution_count": null,
   "id": "46643ba9",
   "metadata": {},
   "outputs": [],
   "source": [
    "from toolz.dicttoolz import get_in\n",
    "import json\n",
    "\n",
    "with open('users.json') as f:\n",
    "    users = json.load(f)\n",
    "\n",
    "for user in users:\n",
    "    print(get_in(['address', 'geo', 'lat'], user))\n"
   ]
  },
  {
   "cell_type": "code",
   "execution_count": null,
   "id": "f4a14e47",
   "metadata": {},
   "outputs": [],
   "source": [
    "active_lat = pipe(\n",
    "    users,\n",
    "    filter(lambda user: get_in(['active'], user)),\n",
    "    map(lambda user: get_in(['address', 'geo', 'lat'], user)),\n",
    "    map(float),\n",
    "    list\n",
    ")\n",
    "\n",
    "print(active_lat)"
   ]
  },
  {
   "cell_type": "code",
   "execution_count": null,
   "id": "8a0257f5",
   "metadata": {},
   "outputs": [],
   "source": [
    "from toolz import groupby\n",
    "\n",
    "fruits = [\n",
    "    {'name': 'apple', 'color': 'red'},\n",
    "    {'name': 'banana', 'color': 'yellow'},\n",
    "    {'name': 'cherry', 'color': 'red'},\n",
    "    {'name': 'grape', 'color': 'purple'},\n",
    "    {'name': 'strawberry', 'color': 'red'},\n",
    "    {'name': 'lemon', 'color': 'yellow'}\n",
    "]\n",
    "\n",
    "print(\"Grouping fruits by color:\")\n",
    "grouped_fruits = groupby('color', fruits)\n",
    "for color, group in grouped_fruits.items():\n",
    "    fruit_names = [fruit['name'] for fruit in group]\n",
    "    print(f\"{color}: {fruit_names}\")\n",
    "\n",
    "print(grouped_fruits)"
   ]
  },
  {
   "cell_type": "markdown",
   "id": "a87a2ff3",
   "metadata": {},
   "source": [
    "## Bonus: Pandas!"
   ]
  },
  {
   "cell_type": "code",
   "execution_count": null,
   "id": "5282e737",
   "metadata": {},
   "outputs": [],
   "source": [
    "import pandas as pd\n",
    "import json\n",
    "\n",
    "# Load the users data\n",
    "with open('users.json') as f:\n",
    "    users = json.load(f)\n",
    "\n",
    "# Convert to pandas DataFrame\n",
    "df = pd.json_normalize(users)\n",
    "\n",
    "# Filter active users and extract latitude values\n",
    "active_lat = (df[df['active'] == True]['address.geo.lat']\n",
    "              .astype(float)\n",
    "              .tolist())\n",
    "\n",
    "print(active_lat)"
   ]
  }
 ],
 "metadata": {
  "kernelspec": {
   "display_name": ".venv",
   "language": "python",
   "name": "python3"
  },
  "language_info": {
   "codemirror_mode": {
    "name": "ipython",
    "version": 3
   },
   "file_extension": ".py",
   "mimetype": "text/x-python",
   "name": "python",
   "nbconvert_exporter": "python",
   "pygments_lexer": "ipython3",
   "version": "3.13.3"
  }
 },
 "nbformat": 4,
 "nbformat_minor": 5
}
