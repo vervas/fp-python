{
 "cells": [
  {
   "cell_type": "markdown",
   "id": "0724e8b5",
   "metadata": {},
   "source": [
    "# Toolz\n",
    "\n",
    "Toolz provides a set of utility functions for iterators, functions, and dictionaries. These functions interoperate well and form the building blocks of common data analytic operations. They extend the standard libraries itertools and functools and borrow heavily from the standard libraries of contemporary functional languages.\n",
    "\n",
    "Toolz provides a suite of functions which have the following functional virtues:\n",
    "\n",
    "- Composable: They interoperate due to their use of core data structures.\n",
    "- Pure: They don’t change their inputs or rely on external state.\n",
    "- Lazy: They don’t run until absolutely necessary, allowing them to support large streaming data sets.\n",
    "\n",
    "Toolz functions are pragmatic. They understand that most programmers have deadlines.\n",
    "\n",
    "- Low Tech: They’re just functions, no syntax or magic tricks to learn\n",
    "- Tuned: They’re profiled and optimized\n",
    "- Serializable: They support common solutions for parallel computing\n",
    "\n"
   ]
  },
  {
   "cell_type": "markdown",
   "id": "407a031f",
   "metadata": {},
   "source": [
    "## Best of"
   ]
  },
  {
   "cell_type": "markdown",
   "id": "6912b292",
   "metadata": {},
   "source": [
    "### Currying"
   ]
  },
  {
   "cell_type": "code",
   "execution_count": 1,
   "id": "8b55ceff",
   "metadata": {},
   "outputs": [
    {
     "name": "stdout",
     "output_type": "stream",
     "text": [
      "#ff0000\n",
      "#00ff00\n",
      "#0000ff\n",
      "\n",
      "### Currying\n",
      "<function rgb at 0x10638e7a0>\n",
      "<function rgb at 0x10638e7a0>\n",
      "#ff0000\n",
      "\n",
      "### blue\n",
      "#0000ff\n",
      "#000080\n",
      "\n",
      "### red\n",
      "#ff0000\n",
      "#800000\n",
      "#400000\n",
      "\n",
      "### greens\n",
      "#00ff80\n",
      "#008040\n",
      "#0040ff\n"
     ]
    }
   ],
   "source": [
    "from toolz import curry\n",
    "\n",
    "def to_hex(num):\n",
    "    return format(num, '02x')\n",
    "\n",
    "def rgb(r, g, b):\n",
    "    return f\"#{to_hex(r)}{to_hex(g)}{to_hex(b)}\"\n",
    "\n",
    "print(rgb(255, 0, 0))\n",
    "print(rgb(0, 255, 0))\n",
    "print(rgb(0, 0, 255))\n",
    "\n",
    "print(\"\\n### Currying\")\n",
    "rgb = curry(rgb)\n",
    "print(rgb(255))\n",
    "print(rgb(255)(0))\n",
    "print(rgb(255)(0)(0))\n",
    "\n",
    "print(\"\\n### blue\")\n",
    "blue = rgb(0)(0)\n",
    "print(blue(255))\n",
    "print(blue(128))\n",
    "\n",
    "print(\"\\n### red\")\n",
    "red = rgb(g=0, b=0)\n",
    "print(red(255))\n",
    "print(red(128))\n",
    "print(red(64))\n",
    "\n",
    "print(\"\\n### greens\")\n",
    "green_to_blue = rgb(0)\n",
    "print(green_to_blue(255, 128))\n",
    "print(green_to_blue(128, 64))\n",
    "print(green_to_blue(64, 255))\n",
    "\n"
   ]
  },
  {
   "cell_type": "code",
   "execution_count": 2,
   "id": "c0f52b79",
   "metadata": {},
   "outputs": [
    {
     "data": {
      "text/html": [
       "<div style=\"background-color: #00ff00; width: 50px; height: 50px; border: 1px solid black;\"></div>"
      ],
      "text/plain": [
       "<IPython.core.display.HTML object>"
      ]
     },
     "metadata": {},
     "output_type": "display_data"
    },
    {
     "data": {
      "text/html": [
       "<div style=\"background-color: #008080; width: 50px; height: 50px; border: 1px solid black;\"></div>"
      ],
      "text/plain": [
       "<IPython.core.display.HTML object>"
      ]
     },
     "metadata": {},
     "output_type": "display_data"
    },
    {
     "data": {
      "text/html": [
       "<div style=\"background-color: #0040ff; width: 50px; height: 50px; border: 1px solid black;\"></div>"
      ],
      "text/plain": [
       "<IPython.core.display.HTML object>"
      ]
     },
     "metadata": {},
     "output_type": "display_data"
    },
    {
     "data": {
      "text/html": [
       "<div style=\"background-color: #000000; width: 50px; height: 50px; border: 1px solid black;\"></div>"
      ],
      "text/plain": [
       "<IPython.core.display.HTML object>"
      ]
     },
     "metadata": {},
     "output_type": "display_data"
    },
    {
     "data": {
      "text/html": [
       "<div style=\"background-color: #800000; width: 50px; height: 50px; border: 1px solid black;\"></div>"
      ],
      "text/plain": [
       "<IPython.core.display.HTML object>"
      ]
     },
     "metadata": {},
     "output_type": "display_data"
    },
    {
     "data": {
      "text/html": [
       "<div style=\"background-color: #ff0000; width: 50px; height: 50px; border: 1px solid black;\"></div>"
      ],
      "text/plain": [
       "<IPython.core.display.HTML object>"
      ]
     },
     "metadata": {},
     "output_type": "display_data"
    }
   ],
   "source": [
    "from IPython.display import HTML, display\n",
    "\n",
    "# Display a colored square\n",
    "def display_color(hex_color):\n",
    "    display(HTML(f'<div style=\"background-color: {hex_color}; width: 50px; height: 50px; border: 1px solid black;\"></div>'))\n",
    "\n",
    "# Example usage\n",
    "display_color(green_to_blue(255, 0))\n",
    "display_color(green_to_blue(128, 128))\n",
    "display_color(green_to_blue(64, 255))\n",
    "display_color(red(0))\n",
    "display_color(red(128))\n",
    "display_color(red(255))"
   ]
  },
  {
   "cell_type": "markdown",
   "id": "b7f56039",
   "metadata": {},
   "source": [
    "## Function Composition\n",
    "\n",
    "Building complex functions by combining simpler ones"
   ]
  },
  {
   "cell_type": "code",
   "execution_count": 3,
   "id": "d7f8d81f",
   "metadata": {},
   "outputs": [
    {
     "name": "stdout",
     "output_type": "stream",
     "text": [
      "-27\n"
     ]
    }
   ],
   "source": [
    "# Using toolz for composition\n",
    "from toolz import compose\n",
    "from operator import mul\n",
    "from functools import partial\n",
    "\n",
    "cube = lambda x: x ** 3\n",
    "negate = lambda x: -x\n",
    "process = compose(str, negate, cube)\n",
    "print(process(3))"
   ]
  },
  {
   "cell_type": "code",
   "execution_count": 4,
   "id": "f5b869fe",
   "metadata": {},
   "outputs": [
    {
     "name": "stdout",
     "output_type": "stream",
     "text": [
      "Dog! lazy the over jumps fox brown quick the\n"
     ]
    }
   ],
   "source": [
    "# Create a text processing pipeline\n",
    "process_text = compose(str.capitalize, \" \".join, reversed, str.split, str.lower)\n",
    "\n",
    "text = \"The quick brown fox jumps over the lazy dog!\"\n",
    "print(process_text(text))"
   ]
  },
  {
   "cell_type": "code",
   "execution_count": 5,
   "id": "21394e2f",
   "metadata": {},
   "outputs": [
    {
     "name": "stdout",
     "output_type": "stream",
     "text": [
      "Dog! lazy the over jumps fox brown quick the\n"
     ]
    }
   ],
   "source": [
    "from toolz import compose_left\n",
    "\n",
    "process_text = compose_left(str.lower, str.split, reversed, \" \".join, str.capitalize)\n",
    "\n",
    "text = \"The quick brown fox jumps over the lazy dog!\"\n",
    "print(process_text(text))\n"
   ]
  },
  {
   "cell_type": "code",
   "execution_count": 6,
   "id": "d30b5068",
   "metadata": {},
   "outputs": [
    {
     "ename": "TypeError",
     "evalue": "filter expected 2 arguments, got 1",
     "output_type": "error",
     "traceback": [
      "\u001b[31m---------------------------------------------------------------------------\u001b[39m",
      "\u001b[31mTypeError\u001b[39m                                 Traceback (most recent call last)",
      "\u001b[36mCell\u001b[39m\u001b[36m \u001b[39m\u001b[32mIn[6]\u001b[39m\u001b[32m, line 5\u001b[39m\n\u001b[32m      1\u001b[39m \u001b[38;5;28;01mfrom\u001b[39;00m\u001b[38;5;250m \u001b[39m\u001b[34;01mtoolz\u001b[39;00m\u001b[38;5;250m \u001b[39m\u001b[38;5;28;01mimport\u001b[39;00m pipe\n\u001b[32m      3\u001b[39m result = pipe(\n\u001b[32m      4\u001b[39m     \u001b[38;5;28mrange\u001b[39m(\u001b[32m10\u001b[39m),\n\u001b[32m----> \u001b[39m\u001b[32m5\u001b[39m     \u001b[38;5;28;43mfilter\u001b[39;49m\u001b[43m(\u001b[49m\u001b[38;5;28;43;01mlambda\u001b[39;49;00m\u001b[43m \u001b[49m\u001b[43mx\u001b[49m\u001b[43m:\u001b[49m\u001b[43m \u001b[49m\u001b[43mx\u001b[49m\u001b[43m \u001b[49m\u001b[43m%\u001b[49m\u001b[43m \u001b[49m\u001b[32;43m2\u001b[39;49m\u001b[43m \u001b[49m\u001b[43m==\u001b[49m\u001b[43m \u001b[49m\u001b[32;43m0\u001b[39;49m\u001b[43m)\u001b[49m,\n\u001b[32m      6\u001b[39m     \u001b[38;5;28mmap\u001b[39m(\u001b[38;5;28;01mlambda\u001b[39;00m x: x / \u001b[32m2\u001b[39m),\n\u001b[32m      7\u001b[39m     \u001b[38;5;28msum\u001b[39m\n\u001b[32m      8\u001b[39m )\n",
      "\u001b[31mTypeError\u001b[39m: filter expected 2 arguments, got 1"
     ]
    }
   ],
   "source": [
    "from toolz import pipe\n",
    "\n",
    "result = pipe(\n",
    "    range(10),\n",
    "    filter(lambda x: x % 2 == 0),\n",
    "    map(lambda x: x / 2),\n",
    "    sum\n",
    ")"
   ]
  },
  {
   "cell_type": "code",
   "execution_count": 16,
   "id": "bd59afc8",
   "metadata": {},
   "outputs": [
    {
     "name": "stdout",
     "output_type": "stream",
     "text": [
      "0.01\n"
     ]
    }
   ],
   "source": [
    "from toolz.curried import pipe, map, filter\n",
    "\n",
    "\n",
    "result = pipe(\n",
    "    range(10),\n",
    "    filter(lambda x: x % 2 == 0), # [0, 2, 4, 6, 8]\n",
    "    map(lambda x: x / 2),         # [0.0, 1.0, 2.0, 3.0, 4.0]\n",
    "    sum,                          # 10.0\n",
    "    str,                          # '10.0'\n",
    "    reversed,                     # ['0', '.', '0', '1']\n",
    "    \"\".join,                      # '0.01'\n",
    ")\n",
    "print(result)"
   ]
  },
  {
   "cell_type": "markdown",
   "id": "e9f85512",
   "metadata": {},
   "source": [
    "## Dicttoolz"
   ]
  },
  {
   "cell_type": "code",
   "execution_count": 21,
   "id": "6b198164",
   "metadata": {},
   "outputs": [
    {
     "name": "stdout",
     "output_type": "stream",
     "text": [
      "Active users:\n",
      "\tAlice, 25\n",
      "\tCharlie, 32\n"
     ]
    }
   ],
   "source": [
    "from toolz import valfilter\n",
    "\n",
    "users = {\n",
    "    'user1': {'name': 'Alice', 'age': 25, 'active': True},\n",
    "    'user2': {'name': 'Bob', 'age': 17, 'active': False},\n",
    "    'user3': {'name': 'Charlie', 'age': 32, 'active': True},\n",
    "    'user4': {'name': 'Diana', 'age': 15, 'active': False}\n",
    "}\n",
    "\n",
    "active_users = valfilter(lambda user: user['active'], users)\n",
    "print(\"Active users:\")\n",
    "for user in active_users.values():\n",
    "    print(f\"\\t{user['name']}, {user['age']}\")\n"
   ]
  },
  {
   "cell_type": "code",
   "execution_count": null,
   "id": "ee47d55a",
   "metadata": {},
   "outputs": [],
   "source": [
    "# More complex example\n",
    "def remove_punctuation(text):\n",
    "    import string\n",
    "    return ''.join(c for c in text if c not in string.punctuation)\n",
    "\n",
    "def lowercase(text):\n",
    "    return text.lower()\n",
    "\n",
    "def tokenize(text):\n",
    "    return text.split()\n",
    "\n",
    "def remove_stopwords(words):\n",
    "    stopwords = {'the', 'a', 'an', 'in', 'on', 'at', 'for', 'to', 'of', 'with', 'by'}\n",
    "    return [word for word in words if word not in stopwords]\n",
    "\n",
    "# Create a text processing pipeline\n",
    "process_text = compose(remove_stopwords, tokenize, lowercase, remove_punctuation)\n",
    "\n",
    "text = \"The quick brown fox jumps over the lazy dog!\"\n",
    "print(f\"Original text: {text}\")\n",
    "print(f\"Processed text: {process_text(text)}\")"
   ]
  },
  {
   "cell_type": "code",
   "execution_count": null,
   "id": "46643ba9",
   "metadata": {},
   "outputs": [
    {
     "name": "stdout",
     "output_type": "stream",
     "text": [
      "-37.3159\n",
      "-43.9509\n",
      "-68.6102\n",
      "29.4572\n",
      "-31.8129\n",
      "-71.4197\n",
      "24.8918\n",
      "-14.3990\n",
      "24.6463\n",
      "-38.2386\n",
      "[-71.4197]\n"
     ]
    }
   ],
   "source": [
    "from toolz.dicttoolz import get_in\n",
    "import json\n",
    "\n",
    "with open('users.json') as f:\n",
    "    users = json.load(f)\n",
    "\n",
    "for user in users:\n",
    "    print(get_in(['address', 'geo', 'lat'], user))\n"
   ]
  },
  {
   "cell_type": "code",
   "execution_count": 40,
   "id": "f4a14e47",
   "metadata": {},
   "outputs": [
    {
     "name": "stdout",
     "output_type": "stream",
     "text": [
      "[-71.4197]\n"
     ]
    }
   ],
   "source": [
    "active_lat = pipe(\n",
    "    users,\n",
    "    filter(lambda user: get_in(['active'], user)),\n",
    "    map(lambda user: get_in(['address', 'geo', 'lat'], user)),\n",
    "    map(float),\n",
    "    list\n",
    ")\n",
    "\n",
    "print(active_lat)"
   ]
  },
  {
   "cell_type": "code",
   "execution_count": 45,
   "id": "8a0257f5",
   "metadata": {},
   "outputs": [
    {
     "name": "stdout",
     "output_type": "stream",
     "text": [
      "Grouping fruits by color:\n",
      "red: ['apple', 'cherry', 'strawberry']\n",
      "yellow: ['banana', 'lemon']\n",
      "purple: ['grape']\n",
      "{'red': [{'name': 'apple', 'color': 'red'}, {'name': 'cherry', 'color': 'red'}, {'name': 'strawberry', 'color': 'red'}], 'yellow': [{'name': 'banana', 'color': 'yellow'}, {'name': 'lemon', 'color': 'yellow'}], 'purple': [{'name': 'grape', 'color': 'purple'}]}\n"
     ]
    }
   ],
   "source": [
    "from toolz import groupby\n",
    "\n",
    "fruits = [\n",
    "    {'name': 'apple', 'color': 'red'},\n",
    "    {'name': 'banana', 'color': 'yellow'},\n",
    "    {'name': 'cherry', 'color': 'red'},\n",
    "    {'name': 'grape', 'color': 'purple'},\n",
    "    {'name': 'strawberry', 'color': 'red'},\n",
    "    {'name': 'lemon', 'color': 'yellow'}\n",
    "]\n",
    "\n",
    "print(\"Grouping fruits by color:\")\n",
    "grouped_fruits = groupby('color', fruits)\n",
    "for color, group in grouped_fruits.items():\n",
    "    fruit_names = [fruit['name'] for fruit in group]\n",
    "    print(f\"{color}: {fruit_names}\")\n",
    "\n",
    "print(grouped_fruits)"
   ]
  }
 ],
 "metadata": {
  "kernelspec": {
   "display_name": ".venv",
   "language": "python",
   "name": "python3"
  },
  "language_info": {
   "codemirror_mode": {
    "name": "ipython",
    "version": 3
   },
   "file_extension": ".py",
   "mimetype": "text/x-python",
   "name": "python",
   "nbconvert_exporter": "python",
   "pygments_lexer": "ipython3",
   "version": "3.13.3"
  }
 },
 "nbformat": 4,
 "nbformat_minor": 5
}
