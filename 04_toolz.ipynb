{
 "cells": [
  {
   "cell_type": "markdown",
   "id": "0724e8b5",
   "metadata": {},
   "source": [
    "# Toolz\n",
    "\n",
    "Toolz provides a set of utility functions for iterators, functions, and dictionaries. These functions interoperate well and form the building blocks of common data analytic operations. They extend the standard libraries itertools and functools and borrow heavily from the standard libraries of contemporary functional languages.\n",
    "\n",
    "Toolz provides a suite of functions which have the following functional virtues:\n",
    "\n",
    "- Composable: They interoperate due to their use of core data structures.\n",
    "- Pure: They don’t change their inputs or rely on external state.\n",
    "- Lazy: They don’t run until absolutely necessary, allowing them to support large streaming data sets.\n",
    "\n",
    "Toolz functions are pragmatic. They understand that most programmers have deadlines.\n",
    "\n",
    "- Low Tech: They’re just functions, no syntax or magic tricks to learn\n",
    "- Tuned: They’re profiled and optimized\n",
    "- Serializable: They support common solutions for parallel computing\n",
    "\n"
   ]
  },
  {
   "cell_type": "markdown",
   "id": "407a031f",
   "metadata": {},
   "source": [
    "## Best of"
   ]
  },
  {
   "cell_type": "markdown",
   "id": "6912b292",
   "metadata": {},
   "source": [
    "### Currying"
   ]
  },
  {
   "cell_type": "code",
   "execution_count": 21,
   "id": "8b55ceff",
   "metadata": {},
   "outputs": [
    {
     "name": "stdout",
     "output_type": "stream",
     "text": [
      "#ff0000\n",
      "#00ff00\n",
      "#0000ff\n",
      "\n",
      "### Currying\n",
      "<function rgb at 0x1104d2520>\n",
      "<function rgb at 0x1104d2520>\n",
      "#ff0000\n",
      "\n",
      "### blue\n",
      "#0000ff\n",
      "#000080\n",
      "\n",
      "### red\n",
      "#ff0000\n",
      "#800000\n",
      "#400000\n",
      "\n",
      "### greens\n",
      "#00ff80\n",
      "#008040\n",
      "#0040ff\n"
     ]
    }
   ],
   "source": [
    "from toolz import curry\n",
    "\n",
    "def to_hex(num):\n",
    "    return format(num, '02x')\n",
    "\n",
    "def rgb(r, g, b):\n",
    "    return f\"#{to_hex(r)}{to_hex(g)}{to_hex(b)}\"\n",
    "\n",
    "print(rgb(255, 0, 0))\n",
    "print(rgb(0, 255, 0))\n",
    "print(rgb(0, 0, 255))\n",
    "\n",
    "print(\"\\n### Currying\")\n",
    "rgb = curry(rgb)\n",
    "print(rgb(255))\n",
    "print(rgb(255)(0))\n",
    "print(rgb(255)(0)(0))\n",
    "\n",
    "print(\"\\n### blue\")\n",
    "blue = rgb(0)(0)\n",
    "print(blue(255))\n",
    "print(blue(128))\n",
    "\n",
    "print(\"\\n### red\")\n",
    "red = rgb(g=0, b=0)\n",
    "print(red(255))\n",
    "print(red(128))\n",
    "print(red(64))\n",
    "\n",
    "print(\"\\n### greens\")\n",
    "green_to_blue = rgb(0)\n",
    "print(green_to_blue(255, 128))\n",
    "print(green_to_blue(128, 64))\n",
    "print(green_to_blue(64, 255))\n",
    "\n"
   ]
  },
  {
   "cell_type": "code",
   "execution_count": null,
   "id": "c0f52b79",
   "metadata": {},
   "outputs": [
    {
     "data": {
      "text/html": [
       "<div style=\"background-color: #00ff00; width: 50px; height: 50px; border: 1px solid black;\"></div>"
      ],
      "text/plain": [
       "<IPython.core.display.HTML object>"
      ]
     },
     "metadata": {},
     "output_type": "display_data"
    },
    {
     "data": {
      "text/html": [
       "<div style=\"background-color: #008080; width: 50px; height: 50px; border: 1px solid black;\"></div>"
      ],
      "text/plain": [
       "<IPython.core.display.HTML object>"
      ]
     },
     "metadata": {},
     "output_type": "display_data"
    },
    {
     "data": {
      "text/html": [
       "<div style=\"background-color: #0040ff; width: 50px; height: 50px; border: 1px solid black;\"></div>"
      ],
      "text/plain": [
       "<IPython.core.display.HTML object>"
      ]
     },
     "metadata": {},
     "output_type": "display_data"
    },
    {
     "data": {
      "text/html": [
       "<div style=\"background-color: #000000; width: 50px; height: 50px; border: 1px solid black;\"></div>"
      ],
      "text/plain": [
       "<IPython.core.display.HTML object>"
      ]
     },
     "metadata": {},
     "output_type": "display_data"
    },
    {
     "data": {
      "text/html": [
       "<div style=\"background-color: #800000; width: 50px; height: 50px; border: 1px solid black;\"></div>"
      ],
      "text/plain": [
       "<IPython.core.display.HTML object>"
      ]
     },
     "metadata": {},
     "output_type": "display_data"
    },
    {
     "data": {
      "text/html": [
       "<div style=\"background-color: #ff0000; width: 50px; height: 50px; border: 1px solid black;\"></div>"
      ],
      "text/plain": [
       "<IPython.core.display.HTML object>"
      ]
     },
     "metadata": {},
     "output_type": "display_data"
    }
   ],
   "source": [
    "from IPython.display import HTML, display\n",
    "\n",
    "# Display a colored square\n",
    "def display_color(hex_color):\n",
    "    display(HTML(f'<div style=\"background-color: {hex_color}; width: 50px; height: 50px; border: 1px solid black;\"></div>'))\n",
    "\n",
    "# Example usage\n",
    "display_color(green_to_blue(255, 0))\n",
    "display_color(green_to_blue(128, 128))\n",
    "display_color(green_to_blue(64, 255))\n",
    "display_color(red(0))\n",
    "display_color(red(128))\n",
    "display_color(red(255))"
   ]
  },
  {
   "cell_type": "markdown",
   "id": "b7f56039",
   "metadata": {},
   "source": [
    "## Function Composition\n",
    "\n",
    "Building complex functions by combining simpler ones"
   ]
  },
  {
   "cell_type": "code",
   "execution_count": 43,
   "id": "d7f8d81f",
   "metadata": {},
   "outputs": [
    {
     "name": "stdout",
     "output_type": "stream",
     "text": [
      "-27\n"
     ]
    }
   ],
   "source": [
    "# Using toolz for composition\n",
    "from toolz import compose\n",
    "from operator import mul\n",
    "from functools import partial\n",
    "\n",
    "cube = lambda x: x ** 3\n",
    "negate = lambda x: -x\n",
    "process = compose(str, negate, cube)\n",
    "print(process(3))"
   ]
  },
  {
   "cell_type": "code",
   "execution_count": 59,
   "id": "f5b869fe",
   "metadata": {},
   "outputs": [
    {
     "name": "stdout",
     "output_type": "stream",
     "text": [
      "Dog! lazy the over jumps fox brown quick the\n"
     ]
    }
   ],
   "source": [
    "# Create a text processing pipeline\n",
    "process_text = compose(str.capitalize, \" \".join, reversed, str.split, str.lower)\n",
    "\n",
    "text = \"The quick brown fox jumps over the lazy dog!\"\n",
    "print(process_text(text))"
   ]
  },
  {
   "cell_type": "code",
   "execution_count": 61,
   "id": "21394e2f",
   "metadata": {},
   "outputs": [
    {
     "name": "stdout",
     "output_type": "stream",
     "text": [
      "Dog! lazy the over jumps fox brown quick the\n"
     ]
    }
   ],
   "source": [
    "from toolz import compose_left\n",
    "\n",
    "process_text = compose_left(str.lower, str.split, reversed, \" \".join, str.capitalize)\n",
    "\n",
    "text = \"The quick brown fox jumps over the lazy dog!\"\n",
    "print(process_text(text))\n"
   ]
  }
 ],
 "metadata": {
  "kernelspec": {
   "display_name": ".venv",
   "language": "python",
   "name": "python3"
  },
  "language_info": {
   "codemirror_mode": {
    "name": "ipython",
    "version": 3
   },
   "file_extension": ".py",
   "mimetype": "text/x-python",
   "name": "python",
   "nbconvert_exporter": "python",
   "pygments_lexer": "ipython3",
   "version": "3.13.3"
  }
 },
 "nbformat": 4,
 "nbformat_minor": 5
}
