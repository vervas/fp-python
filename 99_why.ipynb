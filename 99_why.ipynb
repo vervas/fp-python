{
 "cells": [
  {
   "cell_type": "markdown",
   "id": "38c890a1",
   "metadata": {},
   "source": [
    "# Γιατί??\n",
    "\n",
    "- **Composability**\n",
    "- **Predictability**\n",
    "- **Testability**\n",
    "- **Concurrency**\n",
    "- **Memory efficiency**"
   ]
  }
 ],
 "metadata": {
  "language_info": {
   "name": "python"
  }
 },
 "nbformat": 4,
 "nbformat_minor": 5
}
